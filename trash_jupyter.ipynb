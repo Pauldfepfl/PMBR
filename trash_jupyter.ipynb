{
 "cells": [
  {
   "cell_type": "code",
   "execution_count": 1,
   "id": "b1a39c70",
   "metadata": {},
   "outputs": [],
   "source": [
    "import numpy as np\n",
    "isi = round(np.random.uniform(0.9,1.1,1)[0],2)"
   ]
  },
  {
   "cell_type": "code",
   "execution_count": 26,
   "id": "a1701444",
   "metadata": {},
   "outputs": [
    {
     "data": {
      "text/plain": [
       "np.float64(0.9709887238551745)"
      ]
     },
     "execution_count": 26,
     "metadata": {},
     "output_type": "execute_result"
    }
   ],
   "source": [
    "np.random.uniform(0,1,1)[0]"
   ]
  },
  {
   "cell_type": "code",
   "execution_count": null,
   "id": "3b33517a",
   "metadata": {},
   "outputs": [],
   "source": [
    "rng = np.random.default_rng()\n",
    "idcs=rng.integers(low=0, high=100, size=int(100/5) )\n",
    "idx_right = rng.integers(0,20,10)\n",
    "idx_left=np.delete(idcs,idx_right)"
   ]
  },
  {
   "cell_type": "code",
   "execution_count": 40,
   "id": "5cb72635",
   "metadata": {},
   "outputs": [],
   "source": [
    "import random\n",
    "idcs=np.array(random.sample(range(10), int(10/5)))\n",
    "idx_right=random.sample(range(2),1)\n",
    "idx_left=np.delete(idcs,idx_right)\n",
    "\n",
    "mask=np.zeros(len(idcs),bool)\n",
    "mask[idx_right]=True\n",
    "idx_right=idcs[mask]"
   ]
  }
 ],
 "metadata": {
  "kernelspec": {
   "display_name": "psychopy-env",
   "language": "python",
   "name": "python3"
  },
  "language_info": {
   "codemirror_mode": {
    "name": "ipython",
    "version": 3
   },
   "file_extension": ".py",
   "mimetype": "text/x-python",
   "name": "python",
   "nbconvert_exporter": "python",
   "pygments_lexer": "ipython3",
   "version": "3.10.17"
  }
 },
 "nbformat": 4,
 "nbformat_minor": 5
}
